{
 "cells": [
  {
   "cell_type": "code",
   "execution_count": 1,
   "id": "a276414c-c15b-44fd-8b57-0a2fa131527f",
   "metadata": {},
   "outputs": [
    {
     "data": {
      "text/html": [
       "\n",
       "            <div>\n",
       "                <p><b>SparkSession - hive</b></p>\n",
       "                \n",
       "        <div>\n",
       "            <p><b>SparkContext</b></p>\n",
       "\n",
       "            <p><a href=\"http://192.168.1.16:4047\">Spark UI</a></p>\n",
       "\n",
       "            <dl>\n",
       "              <dt>Version</dt>\n",
       "                <dd><code>v3.5.5</code></dd>\n",
       "              <dt>Master</dt>\n",
       "                <dd><code>local[*]</code></dd>\n",
       "              <dt>AppName</dt>\n",
       "                <dd><code>PySparkShell</code></dd>\n",
       "            </dl>\n",
       "        </div>\n",
       "        \n",
       "            </div>\n",
       "        "
      ],
      "text/plain": [
       "<pyspark.sql.session.SparkSession at 0x7efd6b02e6f0>"
      ]
     },
     "execution_count": 1,
     "metadata": {},
     "output_type": "execute_result"
    }
   ],
   "source": [
    "spark"
   ]
  },
  {
   "cell_type": "code",
   "execution_count": 2,
   "id": "38def4e6-cf91-43e4-a3c8-a4001d913904",
   "metadata": {},
   "outputs": [
    {
     "data": {
      "text/html": [
       "\n",
       "        <div>\n",
       "            <p><b>SparkContext</b></p>\n",
       "\n",
       "            <p><a href=\"http://192.168.1.16:4047\">Spark UI</a></p>\n",
       "\n",
       "            <dl>\n",
       "              <dt>Version</dt>\n",
       "                <dd><code>v3.5.5</code></dd>\n",
       "              <dt>Master</dt>\n",
       "                <dd><code>local[*]</code></dd>\n",
       "              <dt>AppName</dt>\n",
       "                <dd><code>PySparkShell</code></dd>\n",
       "            </dl>\n",
       "        </div>\n",
       "        "
      ],
      "text/plain": [
       "<SparkContext master=local[*] appName=PySparkShell>"
      ]
     },
     "execution_count": 2,
     "metadata": {},
     "output_type": "execute_result"
    }
   ],
   "source": [
    "sc"
   ]
  },
  {
   "cell_type": "markdown",
   "id": "b66717cc-e055-44f1-966e-746164630b4e",
   "metadata": {},
   "source": [
    "# Transformations:\n",
    "### remove underscores before each column\n",
    "### UserDisplayName --> drop column\n",
    "### nulls in _UserId --> replace with -2\n",
    "### Date Column --> change date format to YY-MM-DD\n",
    "### any id --> string to prevent aggregations?\n",
    "### store Score column as 32-int datatype to save memory as Score values are usually small"
   ]
  },
  {
   "cell_type": "code",
   "execution_count": 3,
   "id": "83fc1c29-096c-4c71-9bfb-2ea70c3fe594",
   "metadata": {},
   "outputs": [
    {
     "name": "stderr",
     "output_type": "stream",
     "text": [
      "25/04/01 22:11:57 WARN SparkSession: Using an existing Spark session; only runtime SQL configurations will take effect.\n"
     ]
    }
   ],
   "source": [
    "from pyspark.sql import SparkSession\n",
    "from pyspark.sql.functions import *\n",
    "from pyspark.sql.types import StructType, StructField, StringType, IntegerType, TimestampType, MapType\n",
    "\n",
    "spark = SparkSession.builder \\\n",
    "    .appName(\"XML Processing\") \\\n",
    "    .config(\"spark.jars.packages\", \"com.databricks:spark-xml_2.12:0.16.0\") \\\n",
    "    .getOrCreate()"
   ]
  },
  {
   "cell_type": "code",
   "execution_count": 4,
   "id": "498453f2-3e69-44af-80c5-f538e1b7dd5a",
   "metadata": {},
   "outputs": [],
   "source": [
    "schema = StructType([\n",
    "    StructField(\"_Id\", StringType(), False),\n",
    "    StructField(\"_PostId\", StringType(), True),\n",
    "    StructField(\"_UserId\", StringType(), True),\n",
    "    StructField(\"_UserDisplayName\", StringType(), True),\n",
    "    StructField(\"_Score\", IntegerType(), True),\n",
    "    StructField(\"_Text\", StringType(), True),\n",
    "    StructField(\"_CreationDate\", TimestampType(), True),\n",
    "    StructField(\"_ContentLicense\", StringType(), True)\n",
    "])"
   ]
  },
  {
   "cell_type": "code",
   "execution_count": 5,
   "id": "3179749f-60d9-479d-af3d-b13eb8a52223",
   "metadata": {},
   "outputs": [],
   "source": [
    "df_Comments = spark.read.format(\"xml\") \\\n",
    "    .option(\"rowTag\", \"row\") \\\n",
    "    .schema(schema) \\\n",
    "    .load(r\"Dataset/Comments.xml\")"
   ]
  },
  {
   "cell_type": "code",
   "execution_count": 6,
   "id": "3d6c2de1-ad0a-4e41-ba1d-47691dae0824",
   "metadata": {},
   "outputs": [
    {
     "name": "stdout",
     "output_type": "stream",
     "text": [
      "root\n",
      " |-- _Id: string (nullable = false)\n",
      " |-- _PostId: string (nullable = true)\n",
      " |-- _UserId: string (nullable = true)\n",
      " |-- _UserDisplayName: string (nullable = true)\n",
      " |-- _Score: integer (nullable = true)\n",
      " |-- _Text: string (nullable = true)\n",
      " |-- _CreationDate: timestamp (nullable = true)\n",
      " |-- _ContentLicense: string (nullable = true)\n",
      "\n"
     ]
    }
   ],
   "source": [
    "df_Comments.printSchema()"
   ]
  },
  {
   "cell_type": "code",
   "execution_count": 7,
   "id": "3ede6ea1-3dbb-4eb6-8fe2-1becbe5fb36c",
   "metadata": {},
   "outputs": [
    {
     "name": "stderr",
     "output_type": "stream",
     "text": [
      "[Stage 0:>                                                          (0 + 1) / 1]\r"
     ]
    },
    {
     "name": "stdout",
     "output_type": "stream",
     "text": [
      "+---+-------+-------+----------------+------+--------------------+--------------------+---------------+\n",
      "|_Id|_PostId|_UserId|_UserDisplayName|_Score|               _Text|       _CreationDate|_ContentLicense|\n",
      "+---+-------+-------+----------------+------+--------------------+--------------------+---------------+\n",
      "|  1|      3|     13|            NULL|     7|Could be a poster...|2010-07-19 22:15:...|   CC BY-SA 2.5|\n",
      "|  2|      5|     13|            NULL|     0|Yes, R is nice- b...|2010-07-19 22:16:...|   CC BY-SA 2.5|\n",
      "|  3|      9|     13|            NULL|     1|Again- why?  How ...|2010-07-19 22:18:...|   CC BY-SA 2.5|\n",
      "|  4|      5|     37|            NULL|    11|It's mature, well...|2010-07-19 22:19:...|   CC BY-SA 2.5|\n",
      "|  6|     14|     23|            NULL|    10|why ask the quest...|2010-07-19 22:22:...|   CC BY-SA 2.5|\n",
      "|  7|     18|     36|            NULL|     1|also the US censu...|2010-07-19 22:25:...|   CC BY-SA 2.5|\n",
      "|  9|     16|     78|            NULL|     1|Andrew Gelman has...|2010-07-19 22:30:...|   CC BY-SA 2.5|\n",
      "| 10|     23|   NULL|          user28|     8|I am not sure I u...|2010-07-19 22:31:...|   CC BY-SA 2.5|\n",
      "| 11|     43|      5|            NULL|     5|There are many R ...|2010-07-19 22:34:...|   CC BY-SA 2.5|\n",
      "| 12|     38|     54|            NULL|     0|That's just an ex...|2010-07-19 22:37:...|   CC BY-SA 2.5|\n",
      "| 13|     20|     24|            NULL|     2|What levels of ku...|2010-07-19 22:38:...|   CC BY-SA 2.5|\n",
      "| 14|     46|     74|            NULL|     6|this is an incred...|2010-07-19 22:38:...|   CC BY-SA 2.5|\n",
      "| 15|      3|     24|            NULL|     3|Maybe the focus s...|2010-07-19 22:44:...|   CC BY-SA 2.5|\n",
      "| 18|     36|     68|            NULL|    19|http://xkcd.com/552/|2010-07-19 22:48:...|   CC BY-SA 2.5|\n",
      "| 20|     54|   NULL|          user28|     4|I am not sure if ...|2010-07-19 22:51:...|   CC BY-SA 2.5|\n",
      "| 21|     77|      8|            NULL|     1|I like the first ...|2010-07-19 22:56:...|   CC BY-SA 2.5|\n",
      "| 22|     56|    104|            NULL|    17|I like the analog...|2010-07-19 22:56:...|   CC BY-SA 2.5|\n",
      "| 24|     73|    107|            NULL|     1|Very subjective q...|2010-07-19 22:58:...|   CC BY-SA 2.5|\n",
      "| 27|     77|     55|            NULL|     1|There's an intere...|2010-07-19 23:01:...|   CC BY-SA 2.5|\n",
      "| 29|     79|     55|            NULL|     1|I wasn't suggesti...|2010-07-19 23:03:...|   CC BY-SA 2.5|\n",
      "+---+-------+-------+----------------+------+--------------------+--------------------+---------------+\n",
      "only showing top 20 rows\n",
      "\n"
     ]
    },
    {
     "name": "stderr",
     "output_type": "stream",
     "text": [
      "                                                                                \r"
     ]
    }
   ],
   "source": [
    "df_Comments.show()"
   ]
  },
  {
   "cell_type": "code",
   "execution_count": 8,
   "id": "735c4e1e-6851-45df-a766-6ca7e52ea1ab",
   "metadata": {},
   "outputs": [
    {
     "data": {
      "text/plain": [
       "DataFrame[summary: string, _Id: string, _PostId: string, _UserId: string, _UserDisplayName: string, _Score: string, _Text: string, _ContentLicense: string]"
      ]
     },
     "execution_count": 8,
     "metadata": {},
     "output_type": "execute_result"
    }
   ],
   "source": [
    "df_Comments.summary()"
   ]
  },
  {
   "cell_type": "code",
   "execution_count": 9,
   "id": "f1b5e06a-b6fd-4bc9-8402-a0792de9ad04",
   "metadata": {},
   "outputs": [
    {
     "name": "stderr",
     "output_type": "stream",
     "text": [
      "                                                                                \r"
     ]
    },
    {
     "data": {
      "text/plain": [
       "_Id                  0.000000\n",
       "_PostId              0.000000\n",
       "_UserId              1.607733\n",
       "_UserDisplayName    98.391386\n",
       "_Score               0.000000\n",
       "_Text                0.000000\n",
       "_CreationDate        0.000000\n",
       "_ContentLicense      0.000000\n",
       "dtype: float64"
      ]
     },
     "execution_count": 9,
     "metadata": {},
     "output_type": "execute_result"
    }
   ],
   "source": [
    "df_Comments.toPandas().isnull().sum() / df_Comments.count() * 100"
   ]
  },
  {
   "cell_type": "code",
   "execution_count": 10,
   "id": "32c853c2-20b2-4bcf-ab45-857578e59fb3",
   "metadata": {},
   "outputs": [
    {
     "data": {
      "text/plain": [
       "['_Id',\n",
       " '_PostId',\n",
       " '_UserId',\n",
       " '_UserDisplayName',\n",
       " '_Score',\n",
       " '_Text',\n",
       " '_CreationDate',\n",
       " '_ContentLicense']"
      ]
     },
     "execution_count": 10,
     "metadata": {},
     "output_type": "execute_result"
    }
   ],
   "source": [
    "df_Comments.columns"
   ]
  },
  {
   "cell_type": "markdown",
   "id": "f0d00d27-ade4-4c21-aa6f-37942d0becfb",
   "metadata": {},
   "source": [
    "### remove underscores before each column"
   ]
  },
  {
   "cell_type": "code",
   "execution_count": 11,
   "id": "ed28f13f-891e-4a0d-90a1-69dfde8e03f4",
   "metadata": {},
   "outputs": [],
   "source": [
    "df_Comments = df_Comments \\\n",
    "    .withColumnRenamed(\"_ContentLicense\", \"ContentLicense\") \\\n",
    "    .withColumnRenamed(\"_CreationDate\", \"CreationDate\") \\\n",
    "    .withColumnRenamed(\"_Id\", \"Id\") \\\n",
    "    .withColumnRenamed(\"_PostId\", \"PostId\") \\\n",
    "    .withColumnRenamed(\"_Score\", \"Score\") \\\n",
    "    .withColumnRenamed(\"_Text\", \"Text\") \\\n",
    "    .withColumnRenamed(\"_UserDisplayName\", \"UserDisplayName\") \\\n",
    "    .withColumnRenamed(\"_UserId\", \"UserId\")"
   ]
  },
  {
   "cell_type": "markdown",
   "id": "30d192d5-d3a2-4136-9eef-88634a600b3e",
   "metadata": {},
   "source": [
    "### drop _UserDisplayName Column"
   ]
  },
  {
   "cell_type": "code",
   "execution_count": 12,
   "id": "8c2f7c6d-dda4-4eba-93e8-e7776dde4444",
   "metadata": {},
   "outputs": [],
   "source": [
    "df_Comments = df_Comments.drop('UserDisplayName')"
   ]
  },
  {
   "cell_type": "markdown",
   "id": "dcdffc3b-5eed-4076-ad42-b22df0982691",
   "metadata": {},
   "source": [
    "### verify it is gone"
   ]
  },
  {
   "cell_type": "code",
   "execution_count": 13,
   "id": "de1c0f5e-5a29-40a3-972f-965044b5e83d",
   "metadata": {},
   "outputs": [
    {
     "data": {
      "text/plain": [
       "['Id', 'PostId', 'UserId', 'Score', 'Text', 'CreationDate', 'ContentLicense']"
      ]
     },
     "execution_count": 13,
     "metadata": {},
     "output_type": "execute_result"
    }
   ],
   "source": [
    "df_Comments.columns"
   ]
  },
  {
   "cell_type": "markdown",
   "id": "ad5e18dc-a2b6-4ad6-a29b-2f4ed77a5397",
   "metadata": {},
   "source": [
    "### change Date Format to YY-MM-DD"
   ]
  },
  {
   "cell_type": "code",
   "execution_count": 14,
   "id": "c61a82b9-9fa1-4d76-ae55-8a2fe039c29f",
   "metadata": {},
   "outputs": [],
   "source": [
    "df_Comments = df_Comments.withColumn(\"CreationDate\", date_format(\"CreationDate\", \"yy-MM-dd\"))"
   ]
  },
  {
   "cell_type": "code",
   "execution_count": 15,
   "id": "ad9cce13-448c-4b33-9028-486e1d356738",
   "metadata": {},
   "outputs": [
    {
     "name": "stdout",
     "output_type": "stream",
     "text": [
      "+---+------+------+-----+--------------------+------------+--------------+\n",
      "| Id|PostId|UserId|Score|                Text|CreationDate|ContentLicense|\n",
      "+---+------+------+-----+--------------------+------------+--------------+\n",
      "|  1|     3|    13|    7|Could be a poster...|    10-07-19|  CC BY-SA 2.5|\n",
      "|  2|     5|    13|    0|Yes, R is nice- b...|    10-07-19|  CC BY-SA 2.5|\n",
      "|  3|     9|    13|    1|Again- why?  How ...|    10-07-19|  CC BY-SA 2.5|\n",
      "|  4|     5|    37|   11|It's mature, well...|    10-07-19|  CC BY-SA 2.5|\n",
      "|  6|    14|    23|   10|why ask the quest...|    10-07-19|  CC BY-SA 2.5|\n",
      "|  7|    18|    36|    1|also the US censu...|    10-07-19|  CC BY-SA 2.5|\n",
      "|  9|    16|    78|    1|Andrew Gelman has...|    10-07-19|  CC BY-SA 2.5|\n",
      "| 10|    23|  NULL|    8|I am not sure I u...|    10-07-19|  CC BY-SA 2.5|\n",
      "| 11|    43|     5|    5|There are many R ...|    10-07-19|  CC BY-SA 2.5|\n",
      "| 12|    38|    54|    0|That's just an ex...|    10-07-19|  CC BY-SA 2.5|\n",
      "| 13|    20|    24|    2|What levels of ku...|    10-07-19|  CC BY-SA 2.5|\n",
      "| 14|    46|    74|    6|this is an incred...|    10-07-19|  CC BY-SA 2.5|\n",
      "| 15|     3|    24|    3|Maybe the focus s...|    10-07-19|  CC BY-SA 2.5|\n",
      "| 18|    36|    68|   19|http://xkcd.com/552/|    10-07-19|  CC BY-SA 2.5|\n",
      "| 20|    54|  NULL|    4|I am not sure if ...|    10-07-19|  CC BY-SA 2.5|\n",
      "| 21|    77|     8|    1|I like the first ...|    10-07-19|  CC BY-SA 2.5|\n",
      "| 22|    56|   104|   17|I like the analog...|    10-07-19|  CC BY-SA 2.5|\n",
      "| 24|    73|   107|    1|Very subjective q...|    10-07-19|  CC BY-SA 2.5|\n",
      "| 27|    77|    55|    1|There's an intere...|    10-07-19|  CC BY-SA 2.5|\n",
      "| 29|    79|    55|    1|I wasn't suggesti...|    10-07-19|  CC BY-SA 2.5|\n",
      "+---+------+------+-----+--------------------+------------+--------------+\n",
      "only showing top 20 rows\n",
      "\n"
     ]
    }
   ],
   "source": [
    "df_Comments.show()"
   ]
  },
  {
   "cell_type": "markdown",
   "id": "64f333f0-418c-4580-bd4c-0d7910a4b625",
   "metadata": {},
   "source": [
    "### replace nulls in UserId with -2"
   ]
  },
  {
   "cell_type": "code",
   "execution_count": 16,
   "id": "61fbfb83-1e18-4110-8fad-12f843a483fe",
   "metadata": {},
   "outputs": [],
   "source": [
    "df_Comments = df_Comments.fillna({\"UserId\": -2})"
   ]
  },
  {
   "cell_type": "code",
   "execution_count": 17,
   "id": "7aafb886-737e-476e-81e5-813cfdecc880",
   "metadata": {},
   "outputs": [
    {
     "name": "stdout",
     "output_type": "stream",
     "text": [
      "+---+------+------+-----+--------------------+------------+--------------+\n",
      "| Id|PostId|UserId|Score|                Text|CreationDate|ContentLicense|\n",
      "+---+------+------+-----+--------------------+------------+--------------+\n",
      "|  1|     3|    13|    7|Could be a poster...|    10-07-19|  CC BY-SA 2.5|\n",
      "|  2|     5|    13|    0|Yes, R is nice- b...|    10-07-19|  CC BY-SA 2.5|\n",
      "|  3|     9|    13|    1|Again- why?  How ...|    10-07-19|  CC BY-SA 2.5|\n",
      "|  4|     5|    37|   11|It's mature, well...|    10-07-19|  CC BY-SA 2.5|\n",
      "|  6|    14|    23|   10|why ask the quest...|    10-07-19|  CC BY-SA 2.5|\n",
      "|  7|    18|    36|    1|also the US censu...|    10-07-19|  CC BY-SA 2.5|\n",
      "|  9|    16|    78|    1|Andrew Gelman has...|    10-07-19|  CC BY-SA 2.5|\n",
      "| 10|    23|    -2|    8|I am not sure I u...|    10-07-19|  CC BY-SA 2.5|\n",
      "| 11|    43|     5|    5|There are many R ...|    10-07-19|  CC BY-SA 2.5|\n",
      "| 12|    38|    54|    0|That's just an ex...|    10-07-19|  CC BY-SA 2.5|\n",
      "| 13|    20|    24|    2|What levels of ku...|    10-07-19|  CC BY-SA 2.5|\n",
      "| 14|    46|    74|    6|this is an incred...|    10-07-19|  CC BY-SA 2.5|\n",
      "| 15|     3|    24|    3|Maybe the focus s...|    10-07-19|  CC BY-SA 2.5|\n",
      "| 18|    36|    68|   19|http://xkcd.com/552/|    10-07-19|  CC BY-SA 2.5|\n",
      "| 20|    54|    -2|    4|I am not sure if ...|    10-07-19|  CC BY-SA 2.5|\n",
      "| 21|    77|     8|    1|I like the first ...|    10-07-19|  CC BY-SA 2.5|\n",
      "| 22|    56|   104|   17|I like the analog...|    10-07-19|  CC BY-SA 2.5|\n",
      "| 24|    73|   107|    1|Very subjective q...|    10-07-19|  CC BY-SA 2.5|\n",
      "| 27|    77|    55|    1|There's an intere...|    10-07-19|  CC BY-SA 2.5|\n",
      "| 29|    79|    55|    1|I wasn't suggesti...|    10-07-19|  CC BY-SA 2.5|\n",
      "+---+------+------+-----+--------------------+------------+--------------+\n",
      "only showing top 20 rows\n",
      "\n"
     ]
    }
   ],
   "source": [
    "df_Comments.show()"
   ]
  },
  {
   "cell_type": "markdown",
   "id": "845ec936-cef6-4dba-97af-69fb9c1a0751",
   "metadata": {},
   "source": [
    "### any id --> string to prevent aggregations"
   ]
  },
  {
   "cell_type": "code",
   "execution_count": 18,
   "id": "a4b0d0bc-bfa0-4196-9508-ddc3bc543256",
   "metadata": {},
   "outputs": [],
   "source": [
    "df_Comments = df_Comments.withColumn(\"Id\", col(\"Id\").cast(\"string\")) \\\n",
    "                         .withColumn(\"UserId\", col(\"UserId\").cast(\"string\")) \\\n",
    "                         .withColumn(\"PostId\", col(\"PostId\").cast(\"string\"))"
   ]
  },
  {
   "cell_type": "code",
   "execution_count": 19,
   "id": "1db42de2-21bd-452a-80b8-54c605c39c7b",
   "metadata": {},
   "outputs": [
    {
     "name": "stdout",
     "output_type": "stream",
     "text": [
      "root\n",
      " |-- Id: string (nullable = false)\n",
      " |-- PostId: string (nullable = true)\n",
      " |-- UserId: string (nullable = false)\n",
      " |-- Score: integer (nullable = true)\n",
      " |-- Text: string (nullable = true)\n",
      " |-- CreationDate: string (nullable = true)\n",
      " |-- ContentLicense: string (nullable = true)\n",
      "\n"
     ]
    }
   ],
   "source": [
    "df_Comments.printSchema()"
   ]
  },
  {
   "cell_type": "code",
   "execution_count": 20,
   "id": "48fecb77-a270-413e-bc6c-e1b667472eea",
   "metadata": {},
   "outputs": [
    {
     "name": "stdout",
     "output_type": "stream",
     "text": [
      "+---+------+------+-----+--------------------+------------+--------------+\n",
      "| Id|PostId|UserId|Score|                Text|CreationDate|ContentLicense|\n",
      "+---+------+------+-----+--------------------+------------+--------------+\n",
      "|  1|     3|    13|    7|Could be a poster...|    10-07-19|  CC BY-SA 2.5|\n",
      "|  2|     5|    13|    0|Yes, R is nice- b...|    10-07-19|  CC BY-SA 2.5|\n",
      "|  3|     9|    13|    1|Again- why?  How ...|    10-07-19|  CC BY-SA 2.5|\n",
      "|  4|     5|    37|   11|It's mature, well...|    10-07-19|  CC BY-SA 2.5|\n",
      "|  6|    14|    23|   10|why ask the quest...|    10-07-19|  CC BY-SA 2.5|\n",
      "|  7|    18|    36|    1|also the US censu...|    10-07-19|  CC BY-SA 2.5|\n",
      "|  9|    16|    78|    1|Andrew Gelman has...|    10-07-19|  CC BY-SA 2.5|\n",
      "| 10|    23|    -2|    8|I am not sure I u...|    10-07-19|  CC BY-SA 2.5|\n",
      "| 11|    43|     5|    5|There are many R ...|    10-07-19|  CC BY-SA 2.5|\n",
      "| 12|    38|    54|    0|That's just an ex...|    10-07-19|  CC BY-SA 2.5|\n",
      "| 13|    20|    24|    2|What levels of ku...|    10-07-19|  CC BY-SA 2.5|\n",
      "| 14|    46|    74|    6|this is an incred...|    10-07-19|  CC BY-SA 2.5|\n",
      "| 15|     3|    24|    3|Maybe the focus s...|    10-07-19|  CC BY-SA 2.5|\n",
      "| 18|    36|    68|   19|http://xkcd.com/552/|    10-07-19|  CC BY-SA 2.5|\n",
      "| 20|    54|    -2|    4|I am not sure if ...|    10-07-19|  CC BY-SA 2.5|\n",
      "| 21|    77|     8|    1|I like the first ...|    10-07-19|  CC BY-SA 2.5|\n",
      "| 22|    56|   104|   17|I like the analog...|    10-07-19|  CC BY-SA 2.5|\n",
      "| 24|    73|   107|    1|Very subjective q...|    10-07-19|  CC BY-SA 2.5|\n",
      "| 27|    77|    55|    1|There's an intere...|    10-07-19|  CC BY-SA 2.5|\n",
      "| 29|    79|    55|    1|I wasn't suggesti...|    10-07-19|  CC BY-SA 2.5|\n",
      "+---+------+------+-----+--------------------+------------+--------------+\n",
      "only showing top 20 rows\n",
      "\n"
     ]
    }
   ],
   "source": [
    "df_Comments.show()"
   ]
  },
  {
   "cell_type": "code",
   "execution_count": 21,
   "id": "4467389c-03ae-4107-a734-68a25436a876",
   "metadata": {},
   "outputs": [
    {
     "name": "stderr",
     "output_type": "stream",
     "text": [
      "                                                                                \r"
     ]
    },
    {
     "data": {
      "text/plain": [
       "Id                0.0\n",
       "PostId            0.0\n",
       "UserId            0.0\n",
       "Score             0.0\n",
       "Text              0.0\n",
       "CreationDate      0.0\n",
       "ContentLicense    0.0\n",
       "dtype: float64"
      ]
     },
     "execution_count": 21,
     "metadata": {},
     "output_type": "execute_result"
    }
   ],
   "source": [
    "df_Comments.toPandas().isnull().sum() / df_Comments.count() * 100"
   ]
  },
  {
   "cell_type": "code",
   "execution_count": null,
   "id": "e77fab89-43d6-40ee-9835-30a1e78f9898",
   "metadata": {},
   "outputs": [],
   "source": []
  },
  {
   "cell_type": "code",
   "execution_count": 23,
   "id": "644d57a8-8fc1-4301-b665-20b2b27f93a2",
   "metadata": {},
   "outputs": [
    {
     "name": "stderr",
     "output_type": "stream",
     "text": [
      "                                                                                \r"
     ]
    }
   ],
   "source": [
    "df_Comments.coalesce(1).write.mode(\"overwrite\").parquet(\"Dataset/SilverDataset/Comments\")"
   ]
  },
  {
   "cell_type": "code",
   "execution_count": 24,
   "id": "069cebbf-7ead-4e68-9311-e619fe02e055",
   "metadata": {},
   "outputs": [
    {
     "name": "stderr",
     "output_type": "stream",
     "text": [
      "25/04/01 22:16:05 WARN MemoryManager: Total allocation exceeds 95.00% (1,019,058,573 bytes) of heap memory\n",
      "Scaling row group sizes to 94.91% for 8 writers\n",
      "25/04/01 22:16:05 WARN MemoryManager: Total allocation exceeds 95.00% (1,019,058,573 bytes) of heap memory\n",
      "Scaling row group sizes to 84.36% for 9 writers\n",
      "25/04/01 22:16:15 WARN MemoryManager: Total allocation exceeds 95.00% (1,019,058,573 bytes) of heap memory\n",
      "Scaling row group sizes to 94.91% for 8 writers\n",
      "                                                                                \r"
     ]
    }
   ],
   "source": [
    "df_Comments.write.mode(\"overwrite\").parquet(\"Dataset/SilverDataset/CommentsPartitions\")"
   ]
  },
  {
   "cell_type": "code",
   "execution_count": null,
   "id": "f42212d7-d709-44f3-95a6-faea7d401db7",
   "metadata": {},
   "outputs": [],
   "source": []
  },
  {
   "cell_type": "code",
   "execution_count": null,
   "id": "451a0ca6-bb1f-4337-ac8b-e35ecc837ca0",
   "metadata": {},
   "outputs": [],
   "source": []
  },
  {
   "cell_type": "code",
   "execution_count": null,
   "id": "0677cfe5-5d81-4028-abd0-1e9b9de8766a",
   "metadata": {},
   "outputs": [],
   "source": []
  },
  {
   "cell_type": "code",
   "execution_count": null,
   "id": "62b81ae4-6b7d-45d0-b725-833387d41723",
   "metadata": {},
   "outputs": [],
   "source": []
  },
  {
   "cell_type": "code",
   "execution_count": null,
   "id": "1bc1d5db-ab2c-4d8a-9149-8bae0c5774fa",
   "metadata": {},
   "outputs": [],
   "source": []
  },
  {
   "cell_type": "markdown",
   "id": "0e4b4f5e-f3ba-48a3-a72a-84906bdf2d6a",
   "metadata": {},
   "source": [
    "### Checking for non textual Comments --> nothing seems wrong"
   ]
  },
  {
   "cell_type": "code",
   "execution_count": 174,
   "id": "73ac76c9-9aae-4ea8-8ea7-d3eb813cce2b",
   "metadata": {},
   "outputs": [
    {
     "name": "stdout",
     "output_type": "stream",
     "text": [
      "+-------------------------------------------------------------------------------------------------------------------------------------------------------------------------------------------+-------+\n",
      "|Text                                                                                                                                                                                       |Is_JSON|\n",
      "+-------------------------------------------------------------------------------------------------------------------------------------------------------------------------------------------+-------+\n",
      "|Could be a poster child for argumentative and subjective.  At the least, need to define 'valuable'.                                                                                        |false  |\n",
      "|Yes, R is nice- but WHY is it 'valuable'.                                                                                                                                                  |false  |\n",
      "|Again- why?  How would I convince my boss to use this over, say, Excel.                                                                                                                    |false  |\n",
      "|It's mature, well supported, and a standard within certain scientific communities (popular in our AI department, for example)                                                              |false  |\n",
      "|why ask the question here?  All are community-wiki, why not just fix the canonical answer?                                                                                                 |false  |\n",
      "|also the US census data http://www.census.gov/main/www/access.html                                                                                                                         |false  |\n",
      "|Andrew Gelman has a nice R library that links Bugs to R.                                                                                                                                   |false  |\n",
      "|I am not sure I understand the difficulty. If the functional form is known just take the derivative otherwise take differences. Am I missing something here?                               |false  |\n",
      "|There are many R GUI's available for Windows, so I'm not following your point.                                                                                                             |false  |\n",
      "|That's just an example - it might have a median that is much smaller, on the order of 200 (it depends on how I partition the data). That would preclude using a normal distribution, right?|false  |\n",
      "+-------------------------------------------------------------------------------------------------------------------------------------------------------------------------------------------+-------+\n",
      "only showing top 10 rows\n",
      "\n"
     ]
    }
   ],
   "source": [
    "df_Comments.withColumn(\"Is_JSON\", from_json(col(\"Text\"), MapType(StringType(), StringType())).isNotNull()) \\\n",
    "    .select(\"Text\", \"Is_JSON\") \\\n",
    "    .show(10, False)"
   ]
  },
  {
   "cell_type": "code",
   "execution_count": 177,
   "id": "31f06b11-b978-4f85-9f09-2ffbfb0691bd",
   "metadata": {},
   "outputs": [
    {
     "name": "stderr",
     "output_type": "stream",
     "text": [
      "[Stage 155:==============>                                          (1 + 3) / 4]\r"
     ]
    },
    {
     "name": "stdout",
     "output_type": "stream",
     "text": [
      "+---+------+------+-----+----+------------+--------------+\n",
      "|Id |PostId|UserId|Score|Text|CreationDate|ContentLicense|\n",
      "+---+------+------+-----+----+------------+--------------+\n",
      "+---+------+------+-----+----+------------+--------------+\n",
      "\n"
     ]
    },
    {
     "name": "stderr",
     "output_type": "stream",
     "text": [
      "                                                                                \r"
     ]
    }
   ],
   "source": [
    "df_json = df_Comments.filter(from_json(col(\"Text\"), MapType(StringType(), StringType())).isNotNull())\n",
    "df_json.show(10,truncate=False)"
   ]
  },
  {
   "cell_type": "code",
   "execution_count": 181,
   "id": "e3c3071c-abb9-4ff2-8c57-672924d0174a",
   "metadata": {},
   "outputs": [
    {
     "name": "stderr",
     "output_type": "stream",
     "text": [
      "[Stage 162:>                                                        (0 + 1) / 1]\r"
     ]
    },
    {
     "name": "stdout",
     "output_type": "stream",
     "text": [
      "+------------------------------------------------------------------------------------------------------------------------------------------------------------------------------------------------------------------------------------------------------------------------------------------------------------------------------------------------------------------------------------------------------------------------------------------------------------------------------------------------------------------------------------------------------------------------------------------------------------------------+\n",
      "|Text                                                                                                                                                                                                                                                                                                                                                                                                                                                                                                                                                                                                                    |\n",
      "+------------------------------------------------------------------------------------------------------------------------------------------------------------------------------------------------------------------------------------------------------------------------------------------------------------------------------------------------------------------------------------------------------------------------------------------------------------------------------------------------------------------------------------------------------------------------------------------------------------------------+\n",
      "|Colin, an unbiased estimator of the standard deviation does not have a closed form representation in the general case. What does exist is the unbiased estimator of the <i>variance</i> (s<sup>2</sup> in this case).\\nNoteworthy that both are consistent estimators of the population variance - and so by the continuous mapping theorem, are the two estimators of the standard deviations.\\nA related point is that s<sub>n</sub><sup>2</sup> has a lower MSE than s<sup>2</sup>. The additional advantage from imposing unbiasedness is arguable.                                                                 |\n",
      "|it would be helpful to see <code>summary(r.only.lmer)</code>                                                                                                                                                                                                                                                                                                                                                                                                                                                                                                                                                            |\n",
      "|@Mancel Don't indent your formulaes; otherwise, they will be rendered as verbatim (`<pre>...</pre>` in HTML). See [here](http://stats.stackexchange.com/editing-help) for further information on Markdown formatting.                                                                                                                                                                                                                                                                                                                                                                                                   |\n",
      "|@Iterator: This may be a question straight out of stochastic process, namely, <a href=\"http://en.wikipedia.org/wiki/Two-armed_bandit\">two-arm bandit problems</a> (and that's what the OP would want to look up -- this may be at least a partial answer). In my graduate level stochastic processes class, we did not cover it.                                                                                                                                                                                                                                                                                        |\n",
      "|This reminds me of <a href=\"http://en.wikipedia.org/wiki/Sequential_analysis\">sequential analysis</a> and <a href=\"http://www.springerlink.com/content/w3144338312n2743/\">sequential designs of clinical trials</a>. Traditionally, randomization of patients into different treatments has been completely blind. However, more recently, in order to benefit patients while still learning something about performance of the drug, one can randomize allocation to the treament arm so that the better performing arm receives more patients. So instead of say 33%:33%:33% allocation to the control and two treatme|\n",
      "|@rrenaud: My goal is simple, I just want to maximize the triple and double bets on the most volatile games (the ones with a higher standard deviation), the pseudo-algorithm already works the problem is finding out how many triples and doubles I <strike>can</strike> should play (taking into account the money I've available) beforehand - e.g. 2x double bets would cost me `4` and still wouldn't cover as much uncertainty as a 1x triple bet (that only costs `3`).                                                                                                                                          |\n",
      "|The most basic concept of modern geostatistics, kriging (GLS-type prediction), comes from the name Krige, who was a mining engineer. Books like <a href=\"http://www.amazon.com/Statistics-Spatial-Data-Wiley-Probability/dp/0471002550\">Cressie</a>, although heavy (and not only technically, but in hand, too) would help.                                                                                                                                                                                                                                                                                            |\n",
      "|@whuber: ok, I edited the above to consider the absolute value (I also derived the mean of the absolute value but <a href=\"http://www.ceremade.dauphine.fr/~xian/meanabs.pdf\">it is rather ungainly</a>...)                                                                                                                                                                                                                                                                                                                                                                                                             |\n",
      "|Indirect inference and ABC are very similar (see for instance the incoming <a href=\"http://www.rss.org.uk/uploadedfiles/userfiles/files/Fearnhead_Dec__14.pdf\">Read Paper in JRSS B</a>). They both use simulation. So I am still unclear as to what you are precisely looking for. A way to maximise the likelihood rather than approximating the whole function? This would be the domain of simulated annealing methods.                                                                                                                                                                                             |\n",
      "|Particle filters and sequential Monte Carlo are perfectly equipped for dealing with hidden Markov chains with continuous state spaces. See e.g. <a href=\"http://www.amazon.com/gp/product/1441923195/ref=as_li_ss_tl?ie=UTF8&tag=chrprobboo-20&linkCode=as2&camp=217145&creative=399373&creativeASIN=1441923195\">Inference in Hidden Markov Chains</a> by Cappé, Moulines and Rydén.                                                                                                                                                                                                                                    |\n",
      "|This is done in the answer to your other question, <a href=\"http://stats.stackexchange.com/questions/18975/proof-for-a-binomial-equation\">Proof for a binomial equation</a>                                                                                                                                                                                                                                                                                                                                                                                                                                             |\n",
      "|@DidierPiau: thanks!,  I just saw this announcement: <a href=\"http://www.mathnet.ru/php/seminars.phtml?option_lang=eng&presentid=4082\">A counterexample to Cantelli's conjecture</a> given by Victor Kleptsyn at the Dobrushin Mathematics Laboratory Seminar a few weeks ago. But no abstract and no trace of a preprint anywhere.                                                                                                                                                                                                                                                                                     |\n",
      "|yes, Spearman's rho does not apply to this setting, only to paired observations. I cannot but notice this coincides with <a href=\"http://xianblog.wordpress.com/2012/01/18/correlations-between-the-physical-and-social-sciences/\">a book review I just wrote</a> where the author uses Spearman's rho in the same inappropriate way.                                                                                                                                                                                                                                                                                   |\n",
      "|@STW, it is still not entirely clear what your objective is. I can try to guess, but... well... I am not a prophet. So: 1. Do you want the number $n$ so that you find at least one error with probability 80%? 2. Do you want $n$ so that there is an 80% probability that there are <i>no</i> errors in the remaining records? 3. If this is a cost optimization problem, you should cast is as such: write down your total cost (cost of automated check, manual check, and error), and figure out how to split the revision load between the computer and the human.                                                |\n",
      "|@bayerj Note that OP stated no intention of using validation set, thus my answer. Anyway, even with a proper evaluation you still don't know whether the fitted parameter is optimal or overfitted because you have no datum. <rant>The fundamental problem here is that ANNs have no built-in means of leveraging parsimony and fitness, thus it is almost impossible to train them in a robust way and thus reasonable people have dropped this technology ages ago.</rant>                                                                                                                                           |\n",
      "|I was just pointing to the way to do it right. <rant>And in the meantime, unreasonable people have stopped worrying about optimality and build cool stuff that works and delivers consumer satisfaction with: neural networks.</rant>                                                                                                                                                                                                                                                                                                                                                                                   |\n",
      "|Take the formula from your link. Instead of coordinates <i>x<sub>i</sub></i> and <i>y<sub>i</sub></i> use weigthed coordinates <i>w<sub>i</sub>x<sub>i</sub></i> and <i>w<sub>i</sub>y<sub>i</sub></i>. Instead of the number of points <i>n</i> use the sum of weights Σ<i>w<sub>i</sub></i>. With these modifications, a point with weight 2 counts like two points with weight 1, and all other positive weights work accordingly.                                                                                                                                                                                   |\n",
      "|I don't have access to full text but you can try to take a look: \"Hamid Babamoradi, Frans van den Berg, Åsmund Rinnan, Bootstrap based confidence limits in principal component analysis — A case study, Chemometrics and Intelligent Laboratory Systems, Volume 120, 15 January 2013, Pages 97-105, ISSN 0169-7439, 10.1016/j.chemolab.2012.10.007.\\n(http://www.sciencedirect.com/science/article/pii/S0169743912002171)\\nKeywords: Bootstrap; PCA; Confidence limits; BC<sub>a</sub>; Uncertainty\"                                                                                                                   |\n",
      "|Thank you so much for your answer!\\n\\nI'd like to clarify a few things and maybe get your opinion afterwards again as I'm still confused about the comparison, hope you can help!\\n\\nYou said: \\n<blockquote>Also, for a fair comparison, you may use the same seeds in the runs of A for the B's experiments</blockquote>\\nThis is a very good point, thank you.\\n\\nI've edited my question to address the points you raised.  It'll be great if you can have a look and let me know what you think.                                                                                                                   |\n",
      "|<disclaimer> I'm someone with just enough stats background to be dangerous.  </disclaimer> So lets get dangerous....  My intuition agrees with yours that the Gaussian isn't the way to handle non-continuous data.  For continuous data one value on the number line has a different sort of relationship with all other values than does a number on an integer line, or a binary variable.  Binomial distributions describe binary variables.  Multinomial distributions describe multinomial variables.  Aren't these all exponential family members?                                                               |\n",
      "+------------------------------------------------------------------------------------------------------------------------------------------------------------------------------------------------------------------------------------------------------------------------------------------------------------------------------------------------------------------------------------------------------------------------------------------------------------------------------------------------------------------------------------------------------------------------------------------------------------------------+\n",
      "only showing top 20 rows\n",
      "\n"
     ]
    },
    {
     "name": "stderr",
     "output_type": "stream",
     "text": [
      "                                                                                \r"
     ]
    }
   ],
   "source": [
    "df_csv = df_Comments.filter(\n",
    "    col(\"Text\").rlike(r'[^,]+,[^,]+')\n",
    ")\n",
    "df_xml.select(col(\"Text\")).show(truncate=False)"
   ]
  },
  {
   "cell_type": "code",
   "execution_count": 182,
   "id": "c9f153fb-7528-45c0-8c24-eda3a718c745",
   "metadata": {},
   "outputs": [
    {
     "name": "stdout",
     "output_type": "stream",
     "text": [
      "+---------------------------------------------------------------------------------------------------------------------------------------------------------------------------------------------------------------------------------------------------------------------------------------------------------------------------------------------------------------------------------------------------------------------------------------------------------------------------------------------------------------------------------------------------------------------------------------------------------------------+\n",
      "|Text                                                                                                                                                                                                                                                                                                                                                                                                                                                                                                                                                                                                                 |\n",
      "+---------------------------------------------------------------------------------------------------------------------------------------------------------------------------------------------------------------------------------------------------------------------------------------------------------------------------------------------------------------------------------------------------------------------------------------------------------------------------------------------------------------------------------------------------------------------------------------------------------------------+\n",
      "|Related: http://stats.stackexchange.com/questions/421/what-book-would-you-recommend-for-non-statistician                                                                                                                                                                                                                                                                                                                                                                                                                                                                                                             |\n",
      "|Shane: Honestly, I don't really know yet. What kind of data analysis is there? Should I be posing this as yet another question for the site?                                                                                                                                                                                                                                                                                                                                                                                                                                                                         |\n",
      "|Related: http://stats.stackexchange.com/questions/22/bayesian-and-frequentist-reasoning-in-plain-english                                                                                                                                                                                                                                                                                                                                                                                                                                                                                                             |\n",
      "|Sorry: By cell I mean each $x_i$.                                                                                                                                                                                                                                                                                                                                                                                                                                                                                                                                                                                    |\n",
      "|Sorry: I'm saying that it's an equivalent formulation to sample the indices of $X$ without replacement.  Then $x_i=1$ for those integers that are sampled and $x_i=0$ for those integers that are not.                                                                                                                                                                                                                                                                                                                                                                                                               |\n",
      "|PS: This was posted on mathoverflow.net sometime back. See: http://mathoverflow.net/questions/18302/likelihood-function-for-sequential-random-variables                                                                                                                                                                                                                                                                                                                                                                                                                                                              |\n",
      "|ie: R^2 is the proportion of the total variation from mean (SST) that is the difference b/w the expected regression value and mean value (SSE).  In my example of hours vs. score, the regression value would be the expected test score based on correlation with hours studied.  Any additional variation from that is attributed to SSR.  For a given point, hours studied variable/regression explained x% of the total variation from the mean (SST).  With a high r-value, \"explained\" is big percentage of SST compared to SSR.  With a low r-value, \"explained\" is a lower percentage of SST compared to SSR.|\n",
      "|Srikant: The problem is that you have *two* posteriors becoming more concentrated and you're looking at their relative fit.  Either prior alone would become irrelevant in the limit, but the priors continue to impact the ratio of posterior model probabilities.                                                                                                                                                                                                                                                                                                                                                  |\n",
      "|ASIDE: I'll grant that the model should match the process.  In the case of modeling successes and failures of the robot arm you propose, values past its maximum movement are non-nonsensical, consequently they are past the point of observed values; so if I did that I'd be committing another error, attempting to extrapolate beyond the range of observed values.                                                                                                                                                                                                                                             |\n",
      "|stat579: Where exactly are the video lectures?                                                                                                                                                                                                                                                                                                                                                                                                                                                                                                                                                                       |\n",
      "|Almost: replace *a* by 0 and divide by *k!*.                                                                                                                                                                                                                                                                                                                                                                                                                                                                                                                                                                         |\n",
      "|Lastly: regarding how to ftp; not sure how to do this from within an R function, but you can do it easily with `system(\"ftp ...\")`.                                                                                                                                                                                                                                                                                                                                                                                                                                                                                  |\n",
      "|whuber: i do not know how much you are familiar with the theory of quantile regression. These lines have a major advantage over splines: they do not assume any error distribution (i.e. they do not assume the residuals to be Gaussian).                                                                                                                                                                                                                                                                                                                                                                           |\n",
      "|Joris: well, internet is already pretty good for explanations, my motivation is having something to check against when I need a statistics related formula. For instance, recently I needed a formula for P(X=x|v'x=a) where X is multivariate gaussian and v is some vector, and none of my statistics books had it                                                                                                                                                                                                                                                                                                 |\n",
      "|Whuber: the line you see on the plot is an estimate of the 90% conditionnal quantile (i.e. the function $f(x):p(y_i<f(x_i))\\approx 0.9\\; forall i$. This is true assymptotically for $f(x)$, not for each of the piecewise linear function taken individually.                                                                                                                                                                                                                                                                                                                                                       |\n",
      "|Srikant: Could you please elaborate on this statement: \"In order to compute the required probability, P(S=s|W=w) you need to have some sense of P(S=s) which you can estimate or guess based on previous experience.                                                                                                                                                                                                                                                                                                                                                                                                 |\n",
      "|Hint: being more concise will probably help you get an answer.                                                                                                                                                                                                                                                                                                                                                                                                                                                                                                                                                       |\n",
      "|yes: http://en.wikipedia.org/wiki/Multilevel_model                                                                                                                                                                                                                                                                                                                                                                                                                                                                                                                                                                   |\n",
      "|Tangent: Dirk Eddelbuettel wrote an R package (http://cran.r-project.org/web/packages/random/index.html) to access random numbers.  Not verifiable, however.                                                                                                                                                                                                                                                                                                                                                                                                                                                         |\n",
      "|ars: for maximum likelihood estimation, curvature of the parametric manifold affects sample complexity                                                                                                                                                                                                                                                                                                                                                                                                                                                                                                               |\n",
      "+---------------------------------------------------------------------------------------------------------------------------------------------------------------------------------------------------------------------------------------------------------------------------------------------------------------------------------------------------------------------------------------------------------------------------------------------------------------------------------------------------------------------------------------------------------------------------------------------------------------------+\n",
      "only showing top 20 rows\n",
      "\n"
     ]
    }
   ],
   "source": [
    "df_yaml = df_Comments.filter(\n",
    "    col(\"Text\").rlike(r'^\\s*\\w+:\\s*\\w+')\n",
    ")\n",
    "df_yaml.select(col(\"Text\")).show(truncate=False)"
   ]
  },
  {
   "cell_type": "code",
   "execution_count": 183,
   "id": "f8247ff0-ac1e-4186-837a-66f1ddaa8c01",
   "metadata": {},
   "outputs": [
    {
     "name": "stderr",
     "output_type": "stream",
     "text": [
      "[Stage 166:>                                                        (0 + 4) / 4]\r"
     ]
    },
    {
     "name": "stdout",
     "output_type": "stream",
     "text": [
      "+----+\n",
      "|Text|\n",
      "+----+\n",
      "+----+\n",
      "\n"
     ]
    },
    {
     "name": "stderr",
     "output_type": "stream",
     "text": [
      "                                                                                \r"
     ]
    }
   ],
   "source": [
    "df_ini = df_Comments.filter(\n",
    "    col(\"Text\").rlike(r'^\\s*\\[.*\\]\\s*$') & col(\"Text\").rlike(r'^\\s*\\w+\\s*=\\s*\\w+')\n",
    ")\n",
    "df_ini.select(col(\"Text\")).show(truncate=False)"
   ]
  },
  {
   "cell_type": "code",
   "execution_count": null,
   "id": "b4d3c9c9-e5fe-4485-815b-3c6fe2f7ef56",
   "metadata": {},
   "outputs": [],
   "source": []
  }
 ],
 "metadata": {
  "kernelspec": {
   "display_name": "Python 3 (ipykernel)",
   "language": "python",
   "name": "python3"
  },
  "language_info": {
   "codemirror_mode": {
    "name": "ipython",
    "version": 3
   },
   "file_extension": ".py",
   "mimetype": "text/x-python",
   "name": "python",
   "nbconvert_exporter": "python",
   "pygments_lexer": "ipython3",
   "version": "3.12.7"
  }
 },
 "nbformat": 4,
 "nbformat_minor": 5
}
