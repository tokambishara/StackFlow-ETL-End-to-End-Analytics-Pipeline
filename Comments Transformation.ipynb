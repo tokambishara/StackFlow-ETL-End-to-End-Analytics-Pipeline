{
 "cells": [
  {
   "cell_type": "code",
   "execution_count": 1,
   "id": "a276414c-c15b-44fd-8b57-0a2fa131527f",
   "metadata": {},
   "outputs": [
    {
     "data": {
      "text/html": [
       "\n",
       "            <div>\n",
       "                <p><b>SparkSession - hive</b></p>\n",
       "                \n",
       "        <div>\n",
       "            <p><b>SparkContext</b></p>\n",
       "\n",
       "            <p><a href=\"http://192.168.1.16:4040\">Spark UI</a></p>\n",
       "\n",
       "            <dl>\n",
       "              <dt>Version</dt>\n",
       "                <dd><code>v3.5.5</code></dd>\n",
       "              <dt>Master</dt>\n",
       "                <dd><code>local[*]</code></dd>\n",
       "              <dt>AppName</dt>\n",
       "                <dd><code>PySparkShell</code></dd>\n",
       "            </dl>\n",
       "        </div>\n",
       "        \n",
       "            </div>\n",
       "        "
      ],
      "text/plain": [
       "<pyspark.sql.session.SparkSession at 0x7f70d029d970>"
      ]
     },
     "execution_count": 1,
     "metadata": {},
     "output_type": "execute_result"
    }
   ],
   "source": [
    "spark"
   ]
  },
  {
   "cell_type": "code",
   "execution_count": 2,
   "id": "38def4e6-cf91-43e4-a3c8-a4001d913904",
   "metadata": {},
   "outputs": [
    {
     "data": {
      "text/html": [
       "\n",
       "        <div>\n",
       "            <p><b>SparkContext</b></p>\n",
       "\n",
       "            <p><a href=\"http://192.168.1.16:4040\">Spark UI</a></p>\n",
       "\n",
       "            <dl>\n",
       "              <dt>Version</dt>\n",
       "                <dd><code>v3.5.5</code></dd>\n",
       "              <dt>Master</dt>\n",
       "                <dd><code>local[*]</code></dd>\n",
       "              <dt>AppName</dt>\n",
       "                <dd><code>PySparkShell</code></dd>\n",
       "            </dl>\n",
       "        </div>\n",
       "        "
      ],
      "text/plain": [
       "<SparkContext master=local[*] appName=PySparkShell>"
      ]
     },
     "execution_count": 2,
     "metadata": {},
     "output_type": "execute_result"
    }
   ],
   "source": [
    "sc"
   ]
  },
  {
   "cell_type": "markdown",
   "id": "b66717cc-e055-44f1-966e-746164630b4e",
   "metadata": {},
   "source": [
    "# Transformations:\n",
    "## remove underscores before each column\n",
    "## _UserDisplayName --> drop column\n",
    "## nulls in _UserId --> replace with -2\n",
    "## Date Column --> change to DateTime\n",
    "## any id --> string to prevent aggregations?"
   ]
  },
  {
   "cell_type": "code",
   "execution_count": 39,
   "id": "83fc1c29-096c-4c71-9bfb-2ea70c3fe594",
   "metadata": {},
   "outputs": [],
   "source": [
    "from pyspark.sql import SparkSession\n",
    "from pyspark.sql.functions import *\n",
    "\n",
    "spark = SparkSession.builder \\\n",
    "    .appName(\"XML Processing\") \\\n",
    "    .config(\"spark.jars.packages\", \"com.databricks:spark-xml_2.12:0.16.0\") \\\n",
    "    .getOrCreate()"
   ]
  },
  {
   "cell_type": "code",
   "execution_count": 54,
   "id": "112252e4-d412-40f3-ae53-3d69956b1e21",
   "metadata": {},
   "outputs": [
    {
     "name": "stderr",
     "output_type": "stream",
     "text": [
      "                                                                                \r"
     ]
    }
   ],
   "source": [
    "df_Comments = spark.read.format(\"xml\") \\\n",
    "    .option(\"rowTag\", \"row\") \\\n",
    "    .load(r\"/media/maya-emad/DISK/Graduation Project-Data Engineering/Data/Comments.xml\")"
   ]
  },
  {
   "cell_type": "code",
   "execution_count": 55,
   "id": "40900a9f-1f2d-444b-9571-4827a8a067e0",
   "metadata": {},
   "outputs": [
    {
     "name": "stdout",
     "output_type": "stream",
     "text": [
      "+---------------+--------------------+---+-------+------+--------------------+----------------+-------+\n",
      "|_ContentLicense|       _CreationDate|_Id|_PostId|_Score|               _Text|_UserDisplayName|_UserId|\n",
      "+---------------+--------------------+---+-------+------+--------------------+----------------+-------+\n",
      "|   CC BY-SA 2.5|2010-07-19 22:15:...|  1|      3|     7|Could be a poster...|            NULL|     13|\n",
      "|   CC BY-SA 2.5|2010-07-19 22:16:...|  2|      5|     0|Yes, R is nice- b...|            NULL|     13|\n",
      "|   CC BY-SA 2.5|2010-07-19 22:18:...|  3|      9|     1|Again- why?  How ...|            NULL|     13|\n",
      "|   CC BY-SA 2.5|2010-07-19 22:19:...|  4|      5|    11|It's mature, well...|            NULL|     37|\n",
      "|   CC BY-SA 2.5|2010-07-19 22:22:...|  6|     14|    10|why ask the quest...|            NULL|     23|\n",
      "|   CC BY-SA 2.5|2010-07-19 22:25:...|  7|     18|     1|also the US censu...|            NULL|     36|\n",
      "|   CC BY-SA 2.5|2010-07-19 22:30:...|  9|     16|     1|Andrew Gelman has...|            NULL|     78|\n",
      "|   CC BY-SA 2.5|2010-07-19 22:31:...| 10|     23|     8|I am not sure I u...|          user28|   NULL|\n",
      "|   CC BY-SA 2.5|2010-07-19 22:34:...| 11|     43|     5|There are many R ...|            NULL|      5|\n",
      "|   CC BY-SA 2.5|2010-07-19 22:37:...| 12|     38|     0|That's just an ex...|            NULL|     54|\n",
      "|   CC BY-SA 2.5|2010-07-19 22:38:...| 13|     20|     2|What levels of ku...|            NULL|     24|\n",
      "|   CC BY-SA 2.5|2010-07-19 22:38:...| 14|     46|     6|this is an incred...|            NULL|     74|\n",
      "|   CC BY-SA 2.5|2010-07-19 22:44:...| 15|      3|     3|Maybe the focus s...|            NULL|     24|\n",
      "|   CC BY-SA 2.5|2010-07-19 22:48:...| 18|     36|    19|http://xkcd.com/552/|            NULL|     68|\n",
      "|   CC BY-SA 2.5|2010-07-19 22:51:...| 20|     54|     4|I am not sure if ...|          user28|   NULL|\n",
      "|   CC BY-SA 2.5|2010-07-19 22:56:...| 21|     77|     1|I like the first ...|            NULL|      8|\n",
      "|   CC BY-SA 2.5|2010-07-19 22:56:...| 22|     56|    17|I like the analog...|            NULL|    104|\n",
      "|   CC BY-SA 2.5|2010-07-19 22:58:...| 24|     73|     1|Very subjective q...|            NULL|    107|\n",
      "|   CC BY-SA 2.5|2010-07-19 23:01:...| 27|     77|     1|There's an intere...|            NULL|     55|\n",
      "|   CC BY-SA 2.5|2010-07-19 23:03:...| 29|     79|     1|I wasn't suggesti...|            NULL|     55|\n",
      "+---------------+--------------------+---+-------+------+--------------------+----------------+-------+\n",
      "only showing top 20 rows\n",
      "\n"
     ]
    }
   ],
   "source": [
    "df_Comments.show()"
   ]
  },
  {
   "cell_type": "code",
   "execution_count": 56,
   "id": "3bc49771-d607-4005-8c70-19e86034aea0",
   "metadata": {},
   "outputs": [
    {
     "name": "stdout",
     "output_type": "stream",
     "text": [
      "root\n",
      " |-- _ContentLicense: string (nullable = true)\n",
      " |-- _CreationDate: timestamp (nullable = true)\n",
      " |-- _Id: long (nullable = true)\n",
      " |-- _PostId: long (nullable = true)\n",
      " |-- _Score: long (nullable = true)\n",
      " |-- _Text: string (nullable = true)\n",
      " |-- _UserDisplayName: string (nullable = true)\n",
      " |-- _UserId: long (nullable = true)\n",
      "\n"
     ]
    }
   ],
   "source": [
    "df_Comments.printSchema()"
   ]
  },
  {
   "cell_type": "code",
   "execution_count": 57,
   "id": "735c4e1e-6851-45df-a766-6ca7e52ea1ab",
   "metadata": {},
   "outputs": [
    {
     "data": {
      "text/plain": [
       "DataFrame[summary: string, _ContentLicense: string, _Id: string, _PostId: string, _Score: string, _Text: string, _UserDisplayName: string, _UserId: string]"
      ]
     },
     "execution_count": 57,
     "metadata": {},
     "output_type": "execute_result"
    }
   ],
   "source": [
    "df_Comments.summary()"
   ]
  },
  {
   "cell_type": "code",
   "execution_count": 58,
   "id": "f1b5e06a-b6fd-4bc9-8402-a0792de9ad04",
   "metadata": {},
   "outputs": [
    {
     "name": "stderr",
     "output_type": "stream",
     "text": [
      "                                                                                \r"
     ]
    },
    {
     "data": {
      "text/plain": [
       "_ContentLicense      0.000000\n",
       "_CreationDate        0.000000\n",
       "_Id                  0.000000\n",
       "_PostId              0.000000\n",
       "_Score               0.000000\n",
       "_Text                0.000000\n",
       "_UserDisplayName    98.391386\n",
       "_UserId              1.607733\n",
       "dtype: float64"
      ]
     },
     "execution_count": 58,
     "metadata": {},
     "output_type": "execute_result"
    }
   ],
   "source": [
    "df_Comments.toPandas().isnull().sum() / df_Comments.count() * 100"
   ]
  },
  {
   "cell_type": "code",
   "execution_count": 59,
   "id": "32c853c2-20b2-4bcf-ab45-857578e59fb3",
   "metadata": {},
   "outputs": [
    {
     "data": {
      "text/plain": [
       "['_ContentLicense',\n",
       " '_CreationDate',\n",
       " '_Id',\n",
       " '_PostId',\n",
       " '_Score',\n",
       " '_Text',\n",
       " '_UserDisplayName',\n",
       " '_UserId']"
      ]
     },
     "execution_count": 59,
     "metadata": {},
     "output_type": "execute_result"
    }
   ],
   "source": [
    "df_Comments.columns"
   ]
  },
  {
   "cell_type": "code",
   "execution_count": 74,
   "id": "ed28f13f-891e-4a0d-90a1-69dfde8e03f4",
   "metadata": {},
   "outputs": [],
   "source": [
    "# remove underscores before each column\n",
    "df_Comments = df_Comments \\\n",
    "    .withColumnRenamed(\"_ContentLicense\", \"ContentLicense\") \\\n",
    "    .withColumnRenamed(\"_CreationDate\", \"CreationDate\") \\\n",
    "    .withColumnRenamed(\"_Id\", \"Id\") \\\n",
    "    .withColumnRenamed(\"_PostId\", \"PostId\") \\\n",
    "    .withColumnRenamed(\"_Score\", \"Score\") \\\n",
    "    .withColumnRenamed(\"_Text\", \"Text\") \\\n",
    "    .withColumnRenamed(\"_UserDisplayName\", \"UserDisplayName\") \\\n",
    "    .withColumnRenamed(\"_UserId\", \"UserId\")"
   ]
  },
  {
   "cell_type": "code",
   "execution_count": 70,
   "id": "8c2f7c6d-dda4-4eba-93e8-e7776dde4444",
   "metadata": {},
   "outputs": [],
   "source": [
    "# Drop _UserDisplayName Column\n",
    "df_Comments = df_Comments.drop('_UserDisplayName')"
   ]
  },
  {
   "cell_type": "code",
   "execution_count": 71,
   "id": "de1c0f5e-5a29-40a3-972f-965044b5e83d",
   "metadata": {},
   "outputs": [
    {
     "data": {
      "text/plain": [
       "['ContentLicense', 'CreationDate', 'Id', 'PostId', 'Score', 'Text', 'UserId']"
      ]
     },
     "execution_count": 71,
     "metadata": {},
     "output_type": "execute_result"
    }
   ],
   "source": [
    "# Verify it is gone\n",
    "df_Comments.columns"
   ]
  },
  {
   "cell_type": "code",
   "execution_count": 77,
   "id": "c61a82b9-9fa1-4d76-ae55-8a2fe039c29f",
   "metadata": {},
   "outputs": [],
   "source": [
    "df_Comments = df_Comments.withColumn(\"CreationDate\", to_timestamp(\"CreationDate\"))"
   ]
  },
  {
   "cell_type": "code",
   "execution_count": 79,
   "id": "ad9cce13-448c-4b33-9028-486e1d356738",
   "metadata": {},
   "outputs": [
    {
     "name": "stdout",
     "output_type": "stream",
     "text": [
      "+--------------+--------------------+---+------+-----+--------------------+------+\n",
      "|ContentLicense|        CreationDate| Id|PostId|Score|                Text|UserId|\n",
      "+--------------+--------------------+---+------+-----+--------------------+------+\n",
      "|  CC BY-SA 2.5|2010-07-19 22:15:...|  1|     3|    7|Could be a poster...|    13|\n",
      "|  CC BY-SA 2.5|2010-07-19 22:16:...|  2|     5|    0|Yes, R is nice- b...|    13|\n",
      "|  CC BY-SA 2.5|2010-07-19 22:18:...|  3|     9|    1|Again- why?  How ...|    13|\n",
      "|  CC BY-SA 2.5|2010-07-19 22:19:...|  4|     5|   11|It's mature, well...|    37|\n",
      "|  CC BY-SA 2.5|2010-07-19 22:22:...|  6|    14|   10|why ask the quest...|    23|\n",
      "|  CC BY-SA 2.5|2010-07-19 22:25:...|  7|    18|    1|also the US censu...|    36|\n",
      "|  CC BY-SA 2.5|2010-07-19 22:30:...|  9|    16|    1|Andrew Gelman has...|    78|\n",
      "|  CC BY-SA 2.5|2010-07-19 22:31:...| 10|    23|    8|I am not sure I u...|  NULL|\n",
      "|  CC BY-SA 2.5|2010-07-19 22:34:...| 11|    43|    5|There are many R ...|     5|\n",
      "|  CC BY-SA 2.5|2010-07-19 22:37:...| 12|    38|    0|That's just an ex...|    54|\n",
      "|  CC BY-SA 2.5|2010-07-19 22:38:...| 13|    20|    2|What levels of ku...|    24|\n",
      "|  CC BY-SA 2.5|2010-07-19 22:38:...| 14|    46|    6|this is an incred...|    74|\n",
      "|  CC BY-SA 2.5|2010-07-19 22:44:...| 15|     3|    3|Maybe the focus s...|    24|\n",
      "|  CC BY-SA 2.5|2010-07-19 22:48:...| 18|    36|   19|http://xkcd.com/552/|    68|\n",
      "|  CC BY-SA 2.5|2010-07-19 22:51:...| 20|    54|    4|I am not sure if ...|  NULL|\n",
      "|  CC BY-SA 2.5|2010-07-19 22:56:...| 21|    77|    1|I like the first ...|     8|\n",
      "|  CC BY-SA 2.5|2010-07-19 22:56:...| 22|    56|   17|I like the analog...|   104|\n",
      "|  CC BY-SA 2.5|2010-07-19 22:58:...| 24|    73|    1|Very subjective q...|   107|\n",
      "|  CC BY-SA 2.5|2010-07-19 23:01:...| 27|    77|    1|There's an intere...|    55|\n",
      "|  CC BY-SA 2.5|2010-07-19 23:03:...| 29|    79|    1|I wasn't suggesti...|    55|\n",
      "+--------------+--------------------+---+------+-----+--------------------+------+\n",
      "only showing top 20 rows\n",
      "\n"
     ]
    }
   ],
   "source": [
    "df_Comments.show()"
   ]
  },
  {
   "cell_type": "code",
   "execution_count": 80,
   "id": "61fbfb83-1e18-4110-8fad-12f843a483fe",
   "metadata": {},
   "outputs": [],
   "source": [
    "# replace nulls in UserId with -2\n",
    "df_Comments = df_Comments.fillna({\"UserId\": -2})"
   ]
  },
  {
   "cell_type": "code",
   "execution_count": 81,
   "id": "7aafb886-737e-476e-81e5-813cfdecc880",
   "metadata": {},
   "outputs": [
    {
     "name": "stdout",
     "output_type": "stream",
     "text": [
      "+--------------+--------------------+---+------+-----+--------------------+------+\n",
      "|ContentLicense|        CreationDate| Id|PostId|Score|                Text|UserId|\n",
      "+--------------+--------------------+---+------+-----+--------------------+------+\n",
      "|  CC BY-SA 2.5|2010-07-19 22:15:...|  1|     3|    7|Could be a poster...|    13|\n",
      "|  CC BY-SA 2.5|2010-07-19 22:16:...|  2|     5|    0|Yes, R is nice- b...|    13|\n",
      "|  CC BY-SA 2.5|2010-07-19 22:18:...|  3|     9|    1|Again- why?  How ...|    13|\n",
      "|  CC BY-SA 2.5|2010-07-19 22:19:...|  4|     5|   11|It's mature, well...|    37|\n",
      "|  CC BY-SA 2.5|2010-07-19 22:22:...|  6|    14|   10|why ask the quest...|    23|\n",
      "|  CC BY-SA 2.5|2010-07-19 22:25:...|  7|    18|    1|also the US censu...|    36|\n",
      "|  CC BY-SA 2.5|2010-07-19 22:30:...|  9|    16|    1|Andrew Gelman has...|    78|\n",
      "|  CC BY-SA 2.5|2010-07-19 22:31:...| 10|    23|    8|I am not sure I u...|    -2|\n",
      "|  CC BY-SA 2.5|2010-07-19 22:34:...| 11|    43|    5|There are many R ...|     5|\n",
      "|  CC BY-SA 2.5|2010-07-19 22:37:...| 12|    38|    0|That's just an ex...|    54|\n",
      "|  CC BY-SA 2.5|2010-07-19 22:38:...| 13|    20|    2|What levels of ku...|    24|\n",
      "|  CC BY-SA 2.5|2010-07-19 22:38:...| 14|    46|    6|this is an incred...|    74|\n",
      "|  CC BY-SA 2.5|2010-07-19 22:44:...| 15|     3|    3|Maybe the focus s...|    24|\n",
      "|  CC BY-SA 2.5|2010-07-19 22:48:...| 18|    36|   19|http://xkcd.com/552/|    68|\n",
      "|  CC BY-SA 2.5|2010-07-19 22:51:...| 20|    54|    4|I am not sure if ...|    -2|\n",
      "|  CC BY-SA 2.5|2010-07-19 22:56:...| 21|    77|    1|I like the first ...|     8|\n",
      "|  CC BY-SA 2.5|2010-07-19 22:56:...| 22|    56|   17|I like the analog...|   104|\n",
      "|  CC BY-SA 2.5|2010-07-19 22:58:...| 24|    73|    1|Very subjective q...|   107|\n",
      "|  CC BY-SA 2.5|2010-07-19 23:01:...| 27|    77|    1|There's an intere...|    55|\n",
      "|  CC BY-SA 2.5|2010-07-19 23:03:...| 29|    79|    1|I wasn't suggesti...|    55|\n",
      "+--------------+--------------------+---+------+-----+--------------------+------+\n",
      "only showing top 20 rows\n",
      "\n"
     ]
    }
   ],
   "source": [
    "df_Comments.show()"
   ]
  },
  {
   "cell_type": "code",
   "execution_count": 82,
   "id": "a4b0d0bc-bfa0-4196-9508-ddc3bc543256",
   "metadata": {},
   "outputs": [],
   "source": [
    "# any id --> string to prevent aggregations\n",
    "df_Comments = df_Comments.withColumn(\"Id\", col(\"Id\").cast(\"string\")) \\\n",
    "                         .withColumn(\"UserId\", col(\"UserId\").cast(\"string\")) \\\n",
    "                         .withColumn(\"PostId\", col(\"PostId\").cast(\"string\"))"
   ]
  },
  {
   "cell_type": "code",
   "execution_count": 83,
   "id": "1db42de2-21bd-452a-80b8-54c605c39c7b",
   "metadata": {},
   "outputs": [
    {
     "name": "stdout",
     "output_type": "stream",
     "text": [
      "root\n",
      " |-- ContentLicense: string (nullable = true)\n",
      " |-- CreationDate: timestamp (nullable = true)\n",
      " |-- Id: string (nullable = true)\n",
      " |-- PostId: string (nullable = true)\n",
      " |-- Score: long (nullable = true)\n",
      " |-- Text: string (nullable = true)\n",
      " |-- UserId: string (nullable = false)\n",
      "\n"
     ]
    }
   ],
   "source": [
    "df_Comments.printSchema()"
   ]
  },
  {
   "cell_type": "code",
   "execution_count": 87,
   "id": "1193d848-07ee-41a6-b16d-eac6d03997a2",
   "metadata": {},
   "outputs": [
    {
     "name": "stderr",
     "output_type": "stream",
     "text": [
      "[Stage 80:===================================================>      (8 + 1) / 9]\r"
     ]
    },
    {
     "name": "stdout",
     "output_type": "stream",
     "text": [
      "+-----+\n",
      "|Score|\n",
      "+-----+\n",
      "|   26|\n",
      "|   29|\n",
      "|   19|\n",
      "|   54|\n",
      "|    0|\n",
      "|   22|\n",
      "|    7|\n",
      "|   34|\n",
      "|   57|\n",
      "|   43|\n",
      "|   32|\n",
      "|   31|\n",
      "|  119|\n",
      "|   39|\n",
      "|  116|\n",
      "|   25|\n",
      "|    6|\n",
      "|   68|\n",
      "|   72|\n",
      "|   58|\n",
      "+-----+\n",
      "only showing top 20 rows\n",
      "\n"
     ]
    },
    {
     "name": "stderr",
     "output_type": "stream",
     "text": [
      "                                                                                \r"
     ]
    }
   ],
   "source": [
    "df_Comments.select(\"Score\").distinct().show()"
   ]
  },
  {
   "cell_type": "code",
   "execution_count": 92,
   "id": "b443ca23-dde5-4ae5-b3f0-e2ef158505f2",
   "metadata": {},
   "outputs": [],
   "source": [
    "# store Score Column as 32-int datatype to save memory as Score values are usually small\n",
    "df_Comments = df_Comments.withColumn(\"Score\", col(\"Score\").cast('int'))"
   ]
  },
  {
   "cell_type": "code",
   "execution_count": 93,
   "id": "4e270afc-30a2-4bd9-a269-77eff1a63b8e",
   "metadata": {},
   "outputs": [
    {
     "name": "stdout",
     "output_type": "stream",
     "text": [
      "root\n",
      " |-- ContentLicense: string (nullable = true)\n",
      " |-- CreationDate: timestamp (nullable = true)\n",
      " |-- Id: string (nullable = true)\n",
      " |-- PostId: string (nullable = true)\n",
      " |-- Score: integer (nullable = true)\n",
      " |-- Text: string (nullable = true)\n",
      " |-- UserId: string (nullable = false)\n",
      "\n"
     ]
    }
   ],
   "source": [
    "df_Comments.printSchema()"
   ]
  },
  {
   "cell_type": "code",
   "execution_count": 94,
   "id": "48fecb77-a270-413e-bc6c-e1b667472eea",
   "metadata": {},
   "outputs": [
    {
     "name": "stdout",
     "output_type": "stream",
     "text": [
      "+--------------+--------------------+---+------+-----+--------------------+------+\n",
      "|ContentLicense|        CreationDate| Id|PostId|Score|                Text|UserId|\n",
      "+--------------+--------------------+---+------+-----+--------------------+------+\n",
      "|  CC BY-SA 2.5|2010-07-19 22:15:...|  1|     3|    7|Could be a poster...|    13|\n",
      "|  CC BY-SA 2.5|2010-07-19 22:16:...|  2|     5|    0|Yes, R is nice- b...|    13|\n",
      "|  CC BY-SA 2.5|2010-07-19 22:18:...|  3|     9|    1|Again- why?  How ...|    13|\n",
      "|  CC BY-SA 2.5|2010-07-19 22:19:...|  4|     5|   11|It's mature, well...|    37|\n",
      "|  CC BY-SA 2.5|2010-07-19 22:22:...|  6|    14|   10|why ask the quest...|    23|\n",
      "|  CC BY-SA 2.5|2010-07-19 22:25:...|  7|    18|    1|also the US censu...|    36|\n",
      "|  CC BY-SA 2.5|2010-07-19 22:30:...|  9|    16|    1|Andrew Gelman has...|    78|\n",
      "|  CC BY-SA 2.5|2010-07-19 22:31:...| 10|    23|    8|I am not sure I u...|    -2|\n",
      "|  CC BY-SA 2.5|2010-07-19 22:34:...| 11|    43|    5|There are many R ...|     5|\n",
      "|  CC BY-SA 2.5|2010-07-19 22:37:...| 12|    38|    0|That's just an ex...|    54|\n",
      "|  CC BY-SA 2.5|2010-07-19 22:38:...| 13|    20|    2|What levels of ku...|    24|\n",
      "|  CC BY-SA 2.5|2010-07-19 22:38:...| 14|    46|    6|this is an incred...|    74|\n",
      "|  CC BY-SA 2.5|2010-07-19 22:44:...| 15|     3|    3|Maybe the focus s...|    24|\n",
      "|  CC BY-SA 2.5|2010-07-19 22:48:...| 18|    36|   19|http://xkcd.com/552/|    68|\n",
      "|  CC BY-SA 2.5|2010-07-19 22:51:...| 20|    54|    4|I am not sure if ...|    -2|\n",
      "|  CC BY-SA 2.5|2010-07-19 22:56:...| 21|    77|    1|I like the first ...|     8|\n",
      "|  CC BY-SA 2.5|2010-07-19 22:56:...| 22|    56|   17|I like the analog...|   104|\n",
      "|  CC BY-SA 2.5|2010-07-19 22:58:...| 24|    73|    1|Very subjective q...|   107|\n",
      "|  CC BY-SA 2.5|2010-07-19 23:01:...| 27|    77|    1|There's an intere...|    55|\n",
      "|  CC BY-SA 2.5|2010-07-19 23:03:...| 29|    79|    1|I wasn't suggesti...|    55|\n",
      "+--------------+--------------------+---+------+-----+--------------------+------+\n",
      "only showing top 20 rows\n",
      "\n"
     ]
    }
   ],
   "source": [
    "df_Comments.show()"
   ]
  },
  {
   "cell_type": "code",
   "execution_count": 95,
   "id": "4467389c-03ae-4107-a734-68a25436a876",
   "metadata": {},
   "outputs": [
    {
     "name": "stderr",
     "output_type": "stream",
     "text": [
      "                                                                                \r"
     ]
    },
    {
     "data": {
      "text/plain": [
       "ContentLicense    0.0\n",
       "CreationDate      0.0\n",
       "Id                0.0\n",
       "PostId            0.0\n",
       "Score             0.0\n",
       "Text              0.0\n",
       "UserId            0.0\n",
       "dtype: float64"
      ]
     },
     "execution_count": 95,
     "metadata": {},
     "output_type": "execute_result"
    }
   ],
   "source": [
    "df_Comments.toPandas().isnull().sum() / df_Comments.count() * 100"
   ]
  },
  {
   "cell_type": "code",
   "execution_count": null,
   "id": "f29f5c94-3046-442b-a426-d278ad3323de",
   "metadata": {},
   "outputs": [],
   "source": []
  }
 ],
 "metadata": {
  "kernelspec": {
   "display_name": "Python 3 (ipykernel)",
   "language": "python",
   "name": "python3"
  },
  "language_info": {
   "codemirror_mode": {
    "name": "ipython",
    "version": 3
   },
   "file_extension": ".py",
   "mimetype": "text/x-python",
   "name": "python",
   "nbconvert_exporter": "python",
   "pygments_lexer": "ipython3",
   "version": "3.12.7"
  }
 },
 "nbformat": 4,
 "nbformat_minor": 5
}
